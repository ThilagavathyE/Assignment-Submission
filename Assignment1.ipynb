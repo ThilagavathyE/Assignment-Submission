{
  "nbformat": 4,
  "nbformat_minor": 0,
  "metadata": {
    "colab": {
      "name": "Untitled7.ipynb",
      "provenance": []
    },
    "kernelspec": {
      "name": "python3",
      "display_name": "Python 3"
    },
    "language_info": {
      "name": "python"
    }
  },
  "cells": [
    {
      "cell_type": "markdown",
      "source": [
        "Assignment1: Take multiple integers in input and print sum of them\n"
      ],
      "metadata": {
        "id": "N05TBC6b_S11"
      }
    },
    {
      "cell_type": "code",
      "execution_count": 3,
      "metadata": {
        "id": "6dcUzoMP9-Ho",
        "colab": {
          "base_uri": "https://localhost:8080/"
        },
        "outputId": "2760442d-8024-492a-85df-f7a19bcf4ca2"
      },
      "outputs": [
        {
          "output_type": "stream",
          "name": "stdout",
          "text": [
            "Enter any numbers:24 56 78\n",
            "[24, 56, 78]\n",
            "158\n"
          ]
        }
      ],
      "source": [
        "X=[int(i) for i in input('Enter any numbers:').split()]\n",
        "print(X)\n",
        "print(sum(X))"
      ]
    }
  ]
}