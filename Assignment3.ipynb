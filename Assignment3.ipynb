{
  "nbformat": 4,
  "nbformat_minor": 0,
  "metadata": {
    "colab": {
      "name": "Assignment3.ipynb",
      "provenance": []
    },
    "kernelspec": {
      "name": "python3",
      "display_name": "Python 3"
    },
    "language_info": {
      "name": "python"
    }
  },
  "cells": [
    {
      "cell_type": "code",
      "execution_count": 1,
      "metadata": {
        "colab": {
          "base_uri": "https://localhost:8080/"
        },
        "id": "ABKbNMxna4Ef",
        "outputId": "140b9d1e-665e-47fc-e0a7-fbdeb9d992b7"
      },
      "outputs": [
        {
          "output_type": "stream",
          "name": "stdout",
          "text": [
            "Dairymilk_silk\n"
          ]
        }
      ],
      "source": [
        "Chocolates_price ={'Kitkat':40, 'Dairymilk_silk':180,'Mars':50, 'Hersheys':80}\n",
        "max_key =max(Chocolates_price, key=Chocolates_price.get)\n",
        "print(max_key)"
      ]
    }
  ]
}